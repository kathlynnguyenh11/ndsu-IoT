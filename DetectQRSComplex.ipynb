{
 "cells": [
  {
   "cell_type": "code",
   "execution_count": 17,
   "id": "sunrise-housing",
   "metadata": {},
   "outputs": [],
   "source": [
    "from h5py import File\n",
    "import json\n",
    "from os.path import splitext, join\n",
    "from datetime import datetime\n",
    "\n",
    "HOUR = 3600\n",
    "MIN = 60\n",
    "SEC = 1\n",
    "\n",
    "def read_h5(path):\n",
    "    \"\"\"\n",
    "    Function to read a .h5 file with a structure provided by OpenSignals and construct a dictionary with the more\n",
    "    relevant information about each signal.\n",
    "    \n",
    "    ----------\n",
    "    Parameters\n",
    "    ----------\n",
    "    path : str\n",
    "        Absolute or relative path to the .h5 file to be read.\n",
    "    \n",
    "    Returns\n",
    "    -------\n",
    "    dic : dict\n",
    "        Dictionary with the relevant information of the .h5 file. Keys:\n",
    "        Sample Rate\n",
    "        Number of Channels\n",
    "        Signal Type\n",
    "        Acquisition Time\n",
    "        Resolutions\n",
    "    \"\"\"\n",
    "    file = File(path)\n",
    "    dic = {\"Sample Rate\": [], \"Acquisition Time\": [], \"Resolutions\": [], \"Signal Type\": [], \"Number of Channels\": []}\n",
    "    for mac in list(file.keys()):\n",
    "        device = file[mac]\n",
    "        char_to_remove = {ord(i):None for i in '[]\\''}\n",
    "        sampling_rate = device.attrs[\"sampling rate\"]\n",
    "        dic[\"Sample Rate\"].append(str(sampling_rate))\n",
    "        samples = device.attrs[\"nsamples\"]\n",
    "        time_sec = samples / sampling_rate\n",
    "        time = datetime.fromtimestamp(time_sec).strftime(\"%H:%M:%S.\") + str(datetime.fromtimestamp(time_sec).microsecond//1000)[:1]\n",
    "        dic[\"Acquisition Time\"].append(time)\n",
    "        ch_counter = 0\n",
    "        dic[\"Resolutions\"].append(str([str(res) + \" bits\" for res in device.attrs[\"resolution\"]]).translate(char_to_remove))\n",
    "        for channel in list(device[\"raw\"].keys()):\n",
    "            if \"channel\" in channel:\n",
    "                sensor = device[\"raw\"][channel].attrs[\"sensor\"].decode(\"utf-8\")\n",
    "                if sensor == \"RAW\":\n",
    "                    print(\"The type of signal is set to RAW. You need to specify the type of signal (sensor): \")\n",
    "                    sensor = input()\n",
    "                dic[\"Signal Type\"].append(sensor)\n",
    "                ch_counter += 1\n",
    "        dic[\"Number of Channels\"].append(str(ch_counter))\n",
    "    \n",
    "    for key in dic.keys():\n",
    "        dic[key] = str(dic[key]).translate(char_to_remove)\n",
    "\t\n",
    "    return dic\n",
    "\n",
    "def write_json_info(path):\n",
    "    \"\"\"\n",
    "    Function to write a JSON file from a dictionary. It is intended to be used to\n",
    "\tconstruct the file with the most relevant information from a given .h5 file.\n",
    "    \n",
    "    ----------\n",
    "\tParameters\n",
    "    ----------\n",
    "    path : str\n",
    "        Absolute or relative path to the .h5 file to be read.\n",
    "    observations : str\n",
    "        Observations of the signal(s) from the input .h5 file.\n",
    "    \"\"\"\n",
    "    dic = read_h5(path)\n",
    "    #dic[\"Observations\"] = observations\n",
    "    with open(splitext(path)[0]+'_info.json', 'w') as file:\n",
    "        json.dump(dic, file)\n",
    "\n",
    "# path = \"C:/Users/gui_s/Documents/biosignalsnotebooks_org/biosignalsnotebooks_notebooks/signal_samples/bvp_rest.h5\"\n",
    "path = \"/home/ubuntu/apps/ECG_data/\"  # Don't need to change this line\n",
    "file = \"ecg_4000_Hz.h5\"\n",
    "#write_json_info(join(path, file), \"A conventional goniometer signal acquisition with limb movement over time\") # Only need to change the observations of the file"
   ]
  },
  {
   "cell_type": "code",
   "execution_count": 18,
   "id": "fitted-search",
   "metadata": {},
   "outputs": [
    {
     "data": {
      "text/plain": [
       "'/home/ubuntu/apps/ECG_data/ecg_4000_Hz.h5'"
      ]
     },
     "execution_count": 18,
     "metadata": {},
     "output_type": "execute_result"
    }
   ],
   "source": [
    "join(path, file)"
   ]
  },
  {
   "cell_type": "code",
   "execution_count": null,
   "id": "juvenile-crossing",
   "metadata": {},
   "outputs": [],
   "source": []
  },
  {
   "cell_type": "code",
   "execution_count": 20,
   "id": "moderate-survey",
   "metadata": {},
   "outputs": [
    {
     "ename": "AttributeError",
     "evalue": "'str' object has no attribute 'decode'",
     "output_type": "error",
     "traceback": [
      "\u001b[0;31m---------------------------------------------------------------------------\u001b[0m",
      "\u001b[0;31mAttributeError\u001b[0m                            Traceback (most recent call last)",
      "\u001b[0;32m<ipython-input-20-2a738fe093ae>\u001b[0m in \u001b[0;36m<module>\u001b[0;34m\u001b[0m\n\u001b[0;32m----> 1\u001b[0;31m \u001b[0mwrite_json_info\u001b[0m\u001b[0;34m(\u001b[0m\u001b[0mjoin\u001b[0m\u001b[0;34m(\u001b[0m\u001b[0mpath\u001b[0m\u001b[0;34m,\u001b[0m \u001b[0mfile\u001b[0m\u001b[0;34m)\u001b[0m\u001b[0;34m)\u001b[0m\u001b[0;34m\u001b[0m\u001b[0;34m\u001b[0m\u001b[0m\n\u001b[0m",
      "\u001b[0;32m<ipython-input-17-e287251dd046>\u001b[0m in \u001b[0;36mwrite_json_info\u001b[0;34m(path)\u001b[0m\n\u001b[1;32m     70\u001b[0m         \u001b[0mObservations\u001b[0m \u001b[0mof\u001b[0m \u001b[0mthe\u001b[0m \u001b[0msignal\u001b[0m\u001b[0;34m(\u001b[0m\u001b[0ms\u001b[0m\u001b[0;34m)\u001b[0m \u001b[0;32mfrom\u001b[0m \u001b[0mthe\u001b[0m \u001b[0minput\u001b[0m \u001b[0;34m.\u001b[0m\u001b[0mh5\u001b[0m \u001b[0mfile\u001b[0m\u001b[0;34m.\u001b[0m\u001b[0;34m\u001b[0m\u001b[0;34m\u001b[0m\u001b[0m\n\u001b[1;32m     71\u001b[0m     \"\"\"\n\u001b[0;32m---> 72\u001b[0;31m     \u001b[0mdic\u001b[0m \u001b[0;34m=\u001b[0m \u001b[0mread_h5\u001b[0m\u001b[0;34m(\u001b[0m\u001b[0mpath\u001b[0m\u001b[0;34m)\u001b[0m\u001b[0;34m\u001b[0m\u001b[0;34m\u001b[0m\u001b[0m\n\u001b[0m\u001b[1;32m     73\u001b[0m     \u001b[0;31m#dic[\"Observations\"] = observations\u001b[0m\u001b[0;34m\u001b[0m\u001b[0;34m\u001b[0m\u001b[0;34m\u001b[0m\u001b[0m\n\u001b[1;32m     74\u001b[0m     \u001b[0;32mwith\u001b[0m \u001b[0mopen\u001b[0m\u001b[0;34m(\u001b[0m\u001b[0msplitext\u001b[0m\u001b[0;34m(\u001b[0m\u001b[0mpath\u001b[0m\u001b[0;34m)\u001b[0m\u001b[0;34m[\u001b[0m\u001b[0;36m0\u001b[0m\u001b[0;34m]\u001b[0m\u001b[0;34m+\u001b[0m\u001b[0;34m'_info.json'\u001b[0m\u001b[0;34m,\u001b[0m \u001b[0;34m'w'\u001b[0m\u001b[0;34m)\u001b[0m \u001b[0;32mas\u001b[0m \u001b[0mfile\u001b[0m\u001b[0;34m:\u001b[0m\u001b[0;34m\u001b[0m\u001b[0;34m\u001b[0m\u001b[0m\n",
      "\u001b[0;32m<ipython-input-17-e287251dd046>\u001b[0m in \u001b[0;36mread_h5\u001b[0;34m(path)\u001b[0m\n\u001b[1;32m     44\u001b[0m         \u001b[0;32mfor\u001b[0m \u001b[0mchannel\u001b[0m \u001b[0;32min\u001b[0m \u001b[0mlist\u001b[0m\u001b[0;34m(\u001b[0m\u001b[0mdevice\u001b[0m\u001b[0;34m[\u001b[0m\u001b[0;34m\"raw\"\u001b[0m\u001b[0;34m]\u001b[0m\u001b[0;34m.\u001b[0m\u001b[0mkeys\u001b[0m\u001b[0;34m(\u001b[0m\u001b[0;34m)\u001b[0m\u001b[0;34m)\u001b[0m\u001b[0;34m:\u001b[0m\u001b[0;34m\u001b[0m\u001b[0;34m\u001b[0m\u001b[0m\n\u001b[1;32m     45\u001b[0m             \u001b[0;32mif\u001b[0m \u001b[0;34m\"channel\"\u001b[0m \u001b[0;32min\u001b[0m \u001b[0mchannel\u001b[0m\u001b[0;34m:\u001b[0m\u001b[0;34m\u001b[0m\u001b[0;34m\u001b[0m\u001b[0m\n\u001b[0;32m---> 46\u001b[0;31m                 \u001b[0msensor\u001b[0m \u001b[0;34m=\u001b[0m \u001b[0mdevice\u001b[0m\u001b[0;34m[\u001b[0m\u001b[0;34m\"raw\"\u001b[0m\u001b[0;34m]\u001b[0m\u001b[0;34m[\u001b[0m\u001b[0mchannel\u001b[0m\u001b[0;34m]\u001b[0m\u001b[0;34m.\u001b[0m\u001b[0mattrs\u001b[0m\u001b[0;34m[\u001b[0m\u001b[0;34m\"sensor\"\u001b[0m\u001b[0;34m]\u001b[0m\u001b[0;34m.\u001b[0m\u001b[0mdecode\u001b[0m\u001b[0;34m(\u001b[0m\u001b[0;34m\"utf-8\"\u001b[0m\u001b[0;34m)\u001b[0m\u001b[0;34m\u001b[0m\u001b[0;34m\u001b[0m\u001b[0m\n\u001b[0m\u001b[1;32m     47\u001b[0m                 \u001b[0;32mif\u001b[0m \u001b[0msensor\u001b[0m \u001b[0;34m==\u001b[0m \u001b[0;34m\"RAW\"\u001b[0m\u001b[0;34m:\u001b[0m\u001b[0;34m\u001b[0m\u001b[0;34m\u001b[0m\u001b[0m\n\u001b[1;32m     48\u001b[0m                     \u001b[0mprint\u001b[0m\u001b[0;34m(\u001b[0m\u001b[0;34m\"The type of signal is set to RAW. You need to specify the type of signal (sensor): \"\u001b[0m\u001b[0;34m)\u001b[0m\u001b[0;34m\u001b[0m\u001b[0;34m\u001b[0m\u001b[0m\n",
      "\u001b[0;31mAttributeError\u001b[0m: 'str' object has no attribute 'decode'"
     ]
    }
   ],
   "source": [
    "write_json_info(join(path, file))"
   ]
  },
  {
   "cell_type": "code",
   "execution_count": 4,
   "id": "contemporary-collapse",
   "metadata": {},
   "outputs": [
    {
     "data": {
      "text/plain": [
       "'/home/ubuntu/apps'"
      ]
     },
     "execution_count": 4,
     "metadata": {},
     "output_type": "execute_result"
    }
   ],
   "source": [
    "pwd"
   ]
  },
  {
   "cell_type": "code",
   "execution_count": null,
   "id": "italic-screen",
   "metadata": {},
   "outputs": [],
   "source": []
  }
 ],
 "metadata": {
  "kernelspec": {
   "display_name": "Python 3",
   "language": "python",
   "name": "python3"
  },
  "language_info": {
   "codemirror_mode": {
    "name": "ipython",
    "version": 3
   },
   "file_extension": ".py",
   "mimetype": "text/x-python",
   "name": "python",
   "nbconvert_exporter": "python",
   "pygments_lexer": "ipython3",
   "version": "3.9.1"
  }
 },
 "nbformat": 4,
 "nbformat_minor": 5
}
